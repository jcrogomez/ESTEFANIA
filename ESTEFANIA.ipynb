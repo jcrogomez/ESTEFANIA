{
 "cells": [
  {
   "cell_type": "code",
   "execution_count": 33,
   "metadata": {},
   "outputs": [],
   "source": [
    "import pandas as pd\n",
    "import numpy as np\n",
    "from scipy import optimize\n",
    "\n",
    "import os\n",
    "\n",
    "def iones(nombre):\n",
    "    nombre = str(nombre)\n",
    "    path = os.getcwd() + '/templates/'\n",
    "    dict_csv = { os.path.basename(x).split('.')[0]: path + '/' + x for x in os.listdir(path) if x.endswith('.csv') }\n",
    "    ion_df = pd.read_csv(dict_csv[nombre]).fillna(0)\n",
    "\n",
    "    indice = ion_df['GreenHow']\n",
    "\n",
    "    copy = ion_df.copy()\n",
    "    del copy['GreenHow']\n",
    "    del copy['Ingredientes']\n",
    "\n",
    "    A = copy.to_numpy()\n",
    "    AT = A.transpose()\n",
    "    \n",
    "    return ion_df, indice, A, AT\n",
    "\n",
    "\n",
    "def objetivo(nombre):\n",
    "    path = os.getcwd() + '/inputs/'\n",
    "    dict_csv = { os.path.basename(x).split('.')[0]: path + '/' + x for x in os.listdir(path) if x.endswith('.csv') }\n",
    "    df = pd.read_csv(dict_csv[nombre]).fillna(0)\n",
    "\n",
    "    target = df.iloc[0].to_numpy()[2:]\n",
    "    const = df['VALOR'].to_numpy()[1:]\n",
    "\n",
    "    return target, const\n",
    "\n",
    "def corrida(indice, constraints, matriz):\n",
    "\n",
    "    lista = []\n",
    "    index = []\n",
    "\n",
    "    for i in range(len(indice)):\n",
    "        if constraints[i] == 1:\n",
    "            print('Añadiendo: ' + indice[i])\n",
    "            lista.append(matriz[i])\n",
    "            index.append(indice[i])\n",
    "        if constraints[i] == 0:\n",
    "            print('No se utilizara : ' + indice[i])\n",
    "    A = np.array(lista)\n",
    "\n",
    "    AT = A.transpose()\n",
    "\n",
    "    return A, AT, index\n",
    "\n",
    "\n",
    "def loss(x0, k, A):\n",
    "    lista = [sum((k - np.dot(x0, A))**2)/k.shape[0] for i in range(x0.shape[0])]\n",
    "    \n",
    "    return sum(lista)\n",
    "\n",
    "\n",
    "def estefania(guardar=False):\n",
    "\n",
    "    variedad = input('Ingrese el nombre de la variedad: ')\n",
    "\n",
    "    df, indice, matriz, trans = iones()\n",
    "\n",
    "    elementos = list(df.iloc[0][2:].index)\n",
    "\n",
    "    target, const = objetivo(variedad)\n",
    "\n",
    "    A, AT, nuevoindice = corrida(indice, const, matriz)\n",
    "\n",
    "    x = np.random.rand(A.shape[0]) \n",
    "\n",
    "    print('X = ' , x)\n",
    "\n",
    "    loss(x, target, A)\n",
    "\n",
    "    res = optimize.minimize(loss, x0=x, args=(target, A), options={'disp': True, 'tol': 1e-10},\n",
    "                        method='L-BFGS-B', bounds=[(0,None)]*x.shape[0])\n",
    "\n",
    "    #res = optimize.minimize(loss, x0=x, args=(target, A), options={'disp': True, 'tol': 1e-10},\n",
    "    #                    method='nelder-mead', bounds=[(0,None)]*x.shape[0])\n",
    "\n",
    "    #res = optimize.minimize(loss, x0=x, args=(target, A), options={'disp': True, 'tol': 1e-10},\n",
    "    #                    method='SLSQP', bounds=[(0,None)]*x.shape[0])\n",
    "\n",
    "    #res = optimize.minimize(loss, x0=x, args=(target, A), options={'disp': True, 'tol': 1e-10},\n",
    "    #                    method='BFGS', bounds=[(0,None)]*x.shape[0])    \n",
    "\n",
    "\n",
    "    # resultados\n",
    "    d = pd.DataFrame({'fertilizante': nuevoindice, 'g/l': res.x})\n",
    "\n",
    "    # % de error\n",
    "\n",
    "    error = (target - np.dot(res.x, A))*100/1\n",
    "\n",
    "    err = [round(num, 2) for num in error]\n",
    "\n",
    "    e = pd.DataFrame({'error[%]': err})\n",
    "\n",
    "    resultados = pd.DataFrame(elementos, columns=['elemento'])\n",
    "    resultados = resultados.join(e)\n",
    "\n",
    "    resultados = d.join(resultados)\n",
    "\n",
    "    if guardar == True:\n",
    "\n",
    "        current = os.getcwd()\n",
    "        # guardar resultados\n",
    "        resultados.to_csv(current + '/outputs/' + 'resultados' + variedad + '.csv', index=False)\n",
    "\n",
    "\n",
    "    return resultados\n"
   ]
  },
  {
   "attachments": {},
   "cell_type": "markdown",
   "metadata": {},
   "source": [
    "</b>\n",
    "Electronic<br>\n",
    "Salt <br>\n",
    "Target <br>\n",
    "Estimator <br>\n",
    "For <br>\n",
    "Advanced <br>\n",
    "Nutrition <br>\n",
    "In <br>\n",
    "Agriculture <br>\n",
    "\n",
    "# ESTEFANIA"
   ]
  },
  {
   "cell_type": "code",
   "execution_count": null,
   "metadata": {},
   "outputs": [],
   "source": [
    "estefania(guardar=True)"
   ]
  },
  {
   "attachments": {},
   "cell_type": "markdown",
   "metadata": {},
   "source": [
    "### paso a paso: "
   ]
  },
  {
   "attachments": {},
   "cell_type": "markdown",
   "metadata": {},
   "source": [
    "## Cargamos los datos de las sales"
   ]
  },
  {
   "cell_type": "code",
   "execution_count": 34,
   "metadata": {},
   "outputs": [
    {
     "name": "stdout",
     "output_type": "stream",
     "text": [
      "Las sales disponibles para el estudio son: \n",
      "0                           Ácido nítrico\n",
      "1                         Ácido fosfórico\n",
      "2                         Ácido sulfúrico\n",
      "3              Nitrato de amonio, Nitamks\n",
      "4         Nitrato de Potasio más Mg, KERF\n",
      "5     Nitrato de potasio más S, Nitroksul\n",
      "6               Nitrato de calcio samurai\n",
      "7                    Nitrato de calcio bi\n",
      "8                     Nitrato de magnesio\n",
      "9       Fosfato monoamónico, Map colossal\n",
      "10     Fosfato monopotásico, Mkp colossal\n",
      "11                      Sulfato de amonio\n",
      "12           Sulfato de potasio, Solucros\n",
      "13                      Sulfato de calcio\n",
      "14            Sulfato de magnesio, Sulmag\n",
      "15                      Sulfato de fierro\n",
      "16                   Sulfato de manganeso\n",
      "17                        Sulfato de zinc\n",
      "18                       Sulfato de cobre\n",
      "19                         Quelato Ca 95%\n",
      "20                Quelato Fe 6%, microhow\n",
      "21            Quelato de Mn 13%, microhow\n",
      "22            Quelato de Zn 15%, microhow\n",
      "23               Quelato Cu 15%, microhow\n",
      "24                       Quelato full mix\n",
      "25                     Quelato full mix B\n",
      "26                      Ácido bórico, abo\n",
      "27                                Solubor\n",
      "28               Borato sódico, greenboro\n",
      "29                    Molibdato de amonio\n",
      "30               Molibdato de sodio, MOST\n",
      "31                     Cloruro de potasio\n",
      "32                      Cloruro de calcio\n",
      "Name: GreenHow, dtype: object\n"
     ]
    }
   ],
   "source": [
    "df, indice, matriz, trans = iones('iones')\n",
    "\n",
    "print('Las sales disponibles para el estudio son: ')\n",
    "print(indice)\n",
    "\n",
    "elementos = list(df.iloc[0][2:].index)\n"
   ]
  },
  {
   "attachments": {},
   "cell_type": "markdown",
   "metadata": {},
   "source": [
    "## Cargamos la solución objetivo"
   ]
  },
  {
   "cell_type": "code",
   "execution_count": 35,
   "metadata": {},
   "outputs": [
    {
     "name": "stdout",
     "output_type": "stream",
     "text": [
      "El objetivo del H+ es: 0.0 g/l\n",
      "El objetivo del NO3- es: 9.38693625193657 g/l\n",
      "El objetivo del NH4+ es: 4.17800052831859 g/l\n",
      "El objetivo del H2PO4- es: 1.29141561816095 g/l\n",
      "El objetivo del K+ es: 5.62803786134561 g/l\n",
      "El objetivo del Ca+2 es: 3.74270173162333 g/l\n",
      "El objetivo del Mg+2 es: 2.0571898786258 g/l\n",
      "El objetivo del SO4-2 es: 2.1830656479027 g/l\n",
      "El objetivo del Fe es: 0.03581341212284 g/l\n",
      "El objetivo del Mn es: 0.018201674554059 g/l\n",
      "El objetivo del Zn es: 0.0022932623950832 g/l\n",
      "El objetivo del Cu es: 0.0015736631731344 g/l\n",
      "El objetivo del B es: 0.0462534690101758 g/l\n",
      "El objetivo del Mo es: 0.0005211590577444 g/l\n",
      "El objetivo del Co es: 0.0 g/l\n",
      "El objetivo del Cl- es: 0.0 g/l\n",
      "El objetivo del Na+ es: 0.0 g/l\n"
     ]
    }
   ],
   "source": [
    "variedad = 'general'\n",
    "\n",
    "target, const = objetivo(variedad)\n",
    "\n",
    "\n",
    "for i in range(len(elementos)):\n",
    "    print('El objetivo del ' + elementos[i] + ' es: ' +  str(target[i]) + ' g/l')"
   ]
  },
  {
   "attachments": {},
   "cell_type": "markdown",
   "metadata": {},
   "source": [
    "## Hacemos la corrida con los fertilizantes seleccionados"
   ]
  },
  {
   "cell_type": "code",
   "execution_count": 36,
   "metadata": {},
   "outputs": [
    {
     "name": "stdout",
     "output_type": "stream",
     "text": [
      "No se utilizara : Ácido nítrico\n",
      "No se utilizara : Ácido fosfórico\n",
      "No se utilizara : Ácido sulfúrico\n",
      "Añadiendo: Nitrato de amonio, Nitamks\n",
      "No se utilizara : Nitrato de Potasio más Mg, KERF\n",
      "Añadiendo: Nitrato de potasio más S, Nitroksul\n",
      "No se utilizara : Nitrato de calcio samurai\n",
      "Añadiendo: Nitrato de calcio bi\n",
      "Añadiendo: Nitrato de magnesio\n",
      "No se utilizara : Fosfato monoamónico, Map colossal\n",
      "Añadiendo: Fosfato monopotásico, Mkp colossal\n",
      "No se utilizara : Sulfato de amonio\n",
      "No se utilizara : Sulfato de potasio, Solucros\n",
      "No se utilizara : Sulfato de calcio\n",
      "No se utilizara : Sulfato de magnesio, Sulmag\n",
      "No se utilizara : Sulfato de fierro\n",
      "No se utilizara : Sulfato de manganeso\n",
      "No se utilizara : Sulfato de zinc\n",
      "No se utilizara : Sulfato de cobre\n",
      "No se utilizara : Quelato Ca 95%\n",
      "Añadiendo: Quelato Fe 6%, microhow\n",
      "Añadiendo: Quelato de Mn 13%, microhow\n",
      "Añadiendo: Quelato de Zn 15%, microhow\n",
      "Añadiendo: Quelato Cu 15%, microhow\n",
      "No se utilizara : Quelato full mix\n",
      "No se utilizara : Quelato full mix B\n",
      "Añadiendo: Ácido bórico, abo\n",
      "No se utilizara : Solubor\n",
      "No se utilizara : Borato sódico, greenboro\n",
      "No se utilizara : Molibdato de amonio\n",
      "Añadiendo: Molibdato de sodio, MOST\n",
      "No se utilizara : Cloruro de potasio\n",
      "No se utilizara : Cloruro de calcio\n"
     ]
    }
   ],
   "source": [
    "A, AT, nuevoindice = corrida(indice, const, matriz)"
   ]
  },
  {
   "cell_type": "code",
   "execution_count": 37,
   "metadata": {},
   "outputs": [
    {
     "name": "stdout",
     "output_type": "stream",
     "text": [
      "El Nitrato de amonio, Nitamks es el # 0\n",
      "El Nitrato de potasio más S, Nitroksul es el # 1\n",
      "El Nitrato de calcio bi es el # 2\n",
      "El Nitrato de magnesio es el # 3\n",
      "El Fosfato monopotásico, Mkp colossal es el # 4\n",
      "El Quelato Fe 6%, microhow es el # 5\n",
      "El Quelato de Mn 13%, microhow es el # 6\n",
      "El Quelato de Zn 15%, microhow es el # 7\n",
      "El Quelato Cu 15%, microhow es el # 8\n",
      "El Ácido bórico, abo es el # 9\n",
      "El Molibdato de sodio, MOST es el # 10\n"
     ]
    }
   ],
   "source": [
    "for i in range(len(nuevoindice)):\n",
    "    print('El ' + nuevoindice[i] + ' es el # ' + str(i)  )\n"
   ]
  },
  {
   "attachments": {},
   "cell_type": "markdown",
   "metadata": {},
   "source": [
    "## Creamos el vector a optimizar "
   ]
  },
  {
   "cell_type": "code",
   "execution_count": 45,
   "metadata": {},
   "outputs": [
    {
     "name": "stdout",
     "output_type": "stream",
     "text": [
      "Vector aleatoreo de longitud 11: [0.55362696 0.68793985 0.45822177 0.78440135 0.32227414 0.98063712\n",
      " 0.28008804 0.20527871 0.39624263 0.48982631 0.82887098]\n"
     ]
    }
   ],
   "source": [
    "x = np.random.rand(A.shape[0])\n",
    "\n",
    "print('Vector aleatoreo de longitud ' + str(len(x)) + ':', x)"
   ]
  },
  {
   "attachments": {},
   "cell_type": "markdown",
   "metadata": {},
   "source": [
    "# Función perdida "
   ]
  },
  {
   "cell_type": "code",
   "execution_count": 46,
   "metadata": {},
   "outputs": [
    {
     "name": "stdout",
     "output_type": "stream",
     "text": [
      "A es de dimension:  (11, 17)\n",
      "AT es de dimension:  (17, 11)\n",
      "target es de dimension:  (17,)\n",
      "x es de dimension:  (11,)\n"
     ]
    }
   ],
   "source": [
    "print('A es de dimension: ', A.shape)\n",
    "print('AT es de dimension: ', AT.shape)\n",
    "print('target es de dimension: ', target.shape)\n",
    "print('x es de dimension: ', x.shape)\n"
   ]
  },
  {
   "cell_type": "code",
   "execution_count": 47,
   "metadata": {},
   "outputs": [
    {
     "data": {
      "text/plain": [
       "190.3338914831569"
      ]
     },
     "execution_count": 47,
     "metadata": {},
     "output_type": "execute_result"
    }
   ],
   "source": [
    "loss(x, target, A)"
   ]
  },
  {
   "cell_type": "code",
   "execution_count": 48,
   "metadata": {},
   "outputs": [
    {
     "name": "stdout",
     "output_type": "stream",
     "text": [
      "RUNNING THE L-BFGS-B CODE\n",
      "\n",
      "           * * *\n",
      "\n",
      "Machine precision = 2.220D-16\n",
      " N =           11     M =           10\n",
      "\n",
      "At X0         0 variables are exactly at the bounds\n",
      "\n",
      "At iterate    0    f=  1.90334D+02    |proj g|=  9.80637D-01\n",
      "\n",
      "At iterate    1    f=  1.04773D+02    |proj g|=  1.00000D+00\n",
      "\n",
      "At iterate    2    f=  1.30686D+01    |proj g|=  8.37287D-01\n",
      "\n",
      "At iterate    3    f=  1.08001D+01    |proj g|=  8.13367D-01\n",
      "\n",
      "At iterate    4    f=  8.82730D+00    |proj g|=  9.65742D-01\n",
      "\n",
      "At iterate    5    f=  8.45666D+00    |proj g|=  9.65742D-01\n",
      "\n",
      "At iterate    6    f=  7.78739D+00    |proj g|=  6.98056D-01\n",
      "\n",
      "At iterate    7    f=  7.76844D+00    |proj g|=  7.22875D-01\n",
      "\n",
      "At iterate    8    f=  7.75614D+00    |proj g|=  7.00824D-01\n",
      "\n",
      "At iterate    9    f=  7.75099D+00    |proj g|=  4.42798D-01\n",
      "\n",
      "At iterate   10    f=  7.74660D+00    |proj g|=  2.08020D-01\n",
      "\n",
      "At iterate   11    f=  7.74413D+00    |proj g|=  1.98342D-01\n",
      "\n",
      "At iterate   12    f=  7.73867D+00    |proj g|=  1.79842D-01\n",
      "\n",
      "At iterate   13    f=  7.73777D+00    |proj g|=  7.08754D-01\n",
      "\n",
      "At iterate   14    f=  7.73443D+00    |proj g|=  3.14259D-01\n",
      "\n",
      "At iterate   15    f=  7.73373D+00    |proj g|=  8.65366D-02\n",
      "\n",
      "At iterate   16    f=  7.73360D+00    |proj g|=  5.09170D-02\n",
      "\n",
      "At iterate   17    f=  7.73346D+00    |proj g|=  3.52361D-02\n",
      "\n",
      "At iterate   18    f=  7.73339D+00    |proj g|=  1.82419D-02\n",
      "\n",
      "At iterate   19    f=  7.73337D+00    |proj g|=  2.97547D-02\n",
      "\n",
      "At iterate   20    f=  7.73336D+00    |proj g|=  1.47566D-02\n",
      "\n",
      "At iterate   21    f=  7.73336D+00    |proj g|=  9.18643D-03\n",
      "\n",
      "At iterate   22    f=  7.73335D+00    |proj g|=  6.48352D-03\n",
      "\n",
      "At iterate   23    f=  7.73335D+00    |proj g|=  1.30849D-02\n",
      "\n",
      "At iterate   24    f=  7.73335D+00    |proj g|=  2.86127D-03\n",
      "\n",
      "At iterate   25    f=  7.73335D+00    |proj g|=  6.83720D-04\n",
      "\n",
      "At iterate   26    f=  7.73335D+00    |proj g|=  6.50857D-04\n",
      "\n",
      "           * * *\n",
      "\n",
      "Tit   = total number of iterations\n",
      "Tnf   = total number of function evaluations\n",
      "Tnint = total number of segments explored during Cauchy searches\n",
      "Skip  = number of BFGS updates skipped\n",
      "Nact  = number of active bounds at final generalized Cauchy point\n",
      "Projg = norm of the final projected gradient\n",
      "F     = final function value\n",
      "\n",
      "           * * *\n",
      "\n",
      "   N    Tit     Tnf  Tnint  Skip  Nact     Projg        F\n",
      "   11     26     29     37     0     0   6.509D-04   7.733D+00\n",
      "  F =   7.7333520601536527     \n",
      "\n",
      "CONVERGENCE: REL_REDUCTION_OF_F_<=_FACTR*EPSMCH             \n"
     ]
    }
   ],
   "source": [
    "#res = optimize.minimize(loss, x0=x, args=(k, A), options={'disp': True}, method='SLSQP')\n",
    "#res = optimize.minimize(loss, x0=x, args=(k, A), options={'disp': True}, method='BFGS')\n",
    "#res = optimize.minimize(loss, x0=x, args=(k, A), options={'disp': True}, method='Nelder-Mead')\n",
    "res = optimize.minimize(loss, x0=x, args=(target, A), options={'disp': True}, \n",
    "                        method='L-BFGS-B', bounds=[(0,1)]*x.shape[0])"
   ]
  },
  {
   "cell_type": "code",
   "execution_count": 49,
   "metadata": {},
   "outputs": [
    {
     "data": {
      "text/html": [
       "<div>\n",
       "<style scoped>\n",
       "    .dataframe tbody tr th:only-of-type {\n",
       "        vertical-align: middle;\n",
       "    }\n",
       "\n",
       "    .dataframe tbody tr th {\n",
       "        vertical-align: top;\n",
       "    }\n",
       "\n",
       "    .dataframe thead th {\n",
       "        text-align: right;\n",
       "    }\n",
       "</style>\n",
       "<table border=\"1\" class=\"dataframe\">\n",
       "  <thead>\n",
       "    <tr style=\"text-align: right;\">\n",
       "      <th></th>\n",
       "      <th>fertilizante</th>\n",
       "      <th>g/l</th>\n",
       "      <th>elemento</th>\n",
       "      <th>error[%]</th>\n",
       "    </tr>\n",
       "  </thead>\n",
       "  <tbody>\n",
       "    <tr>\n",
       "      <th>0</th>\n",
       "      <td>Nitrato de amonio, Nitamks</td>\n",
       "      <td>0.296237</td>\n",
       "      <td>H+</td>\n",
       "      <td>0.00</td>\n",
       "    </tr>\n",
       "    <tr>\n",
       "      <th>1</th>\n",
       "      <td>Nitrato de potasio más S, Nitroksul</td>\n",
       "      <td>0.300915</td>\n",
       "      <td>NO3-</td>\n",
       "      <td>-85.34</td>\n",
       "    </tr>\n",
       "    <tr>\n",
       "      <th>2</th>\n",
       "      <td>Nitrato de calcio bi</td>\n",
       "      <td>0.496127</td>\n",
       "      <td>NH4+</td>\n",
       "      <td>61.30</td>\n",
       "    </tr>\n",
       "    <tr>\n",
       "      <th>3</th>\n",
       "      <td>Nitrato de magnesio</td>\n",
       "      <td>0.053602</td>\n",
       "      <td>H2PO4-</td>\n",
       "      <td>-69.26</td>\n",
       "    </tr>\n",
       "    <tr>\n",
       "      <th>4</th>\n",
       "      <td>Fosfato monopotásico, Mkp colossal</td>\n",
       "      <td>0.273518</td>\n",
       "      <td>K+</td>\n",
       "      <td>70.28</td>\n",
       "    </tr>\n",
       "    <tr>\n",
       "      <th>5</th>\n",
       "      <td>Quelato Fe 6%, microhow</td>\n",
       "      <td>0.033232</td>\n",
       "      <td>Ca+2</td>\n",
       "      <td>172.82</td>\n",
       "    </tr>\n",
       "    <tr>\n",
       "      <th>6</th>\n",
       "      <td>Quelato de Mn 13%, microhow</td>\n",
       "      <td>0.007668</td>\n",
       "      <td>Mg+2</td>\n",
       "      <td>180.08</td>\n",
       "    </tr>\n",
       "    <tr>\n",
       "      <th>7</th>\n",
       "      <td>Quelato de Zn 15%, microhow</td>\n",
       "      <td>0.001096</td>\n",
       "      <td>SO4-2</td>\n",
       "      <td>190.91</td>\n",
       "    </tr>\n",
       "    <tr>\n",
       "      <th>8</th>\n",
       "      <td>Quelato Cu 15%, microhow</td>\n",
       "      <td>0.000593</td>\n",
       "      <td>Fe</td>\n",
       "      <td>0.01</td>\n",
       "    </tr>\n",
       "    <tr>\n",
       "      <th>9</th>\n",
       "      <td>Ácido bórico, abo</td>\n",
       "      <td>0.002866</td>\n",
       "      <td>Mn</td>\n",
       "      <td>0.01</td>\n",
       "    </tr>\n",
       "    <tr>\n",
       "      <th>10</th>\n",
       "      <td>Molibdato de sodio, MOST</td>\n",
       "      <td>0.000024</td>\n",
       "      <td>Zn</td>\n",
       "      <td>-0.02</td>\n",
       "    </tr>\n",
       "  </tbody>\n",
       "</table>\n",
       "</div>"
      ],
      "text/plain": [
       "                           fertilizante       g/l elemento  error[%]\n",
       "0            Nitrato de amonio, Nitamks  0.296237       H+      0.00\n",
       "1   Nitrato de potasio más S, Nitroksul  0.300915     NO3-    -85.34\n",
       "2                  Nitrato de calcio bi  0.496127     NH4+     61.30\n",
       "3                   Nitrato de magnesio  0.053602   H2PO4-    -69.26\n",
       "4    Fosfato monopotásico, Mkp colossal  0.273518       K+     70.28\n",
       "5               Quelato Fe 6%, microhow  0.033232     Ca+2    172.82\n",
       "6           Quelato de Mn 13%, microhow  0.007668     Mg+2    180.08\n",
       "7           Quelato de Zn 15%, microhow  0.001096    SO4-2    190.91\n",
       "8              Quelato Cu 15%, microhow  0.000593       Fe      0.01\n",
       "9                     Ácido bórico, abo  0.002866       Mn      0.01\n",
       "10             Molibdato de sodio, MOST  0.000024       Zn     -0.02"
      ]
     },
     "execution_count": 49,
     "metadata": {},
     "output_type": "execute_result"
    }
   ],
   "source": [
    "# resultados\n",
    "d = pd.DataFrame({'fertilizante': nuevoindice, 'g/l': res.x})\n",
    "\n",
    "# % de error\n",
    "\n",
    "error = (target - np.dot(res.x, A))*100/1\n",
    "\n",
    "err = [round(num, 2) for num in error]\n",
    "\n",
    "e = pd.DataFrame({'error[%]': err})\n",
    "\n",
    "resultados = pd.DataFrame(elementos, columns=['elemento'])\n",
    "resultados = resultados.join(e)\n",
    "\n",
    "resultados = d.join(resultados)\n",
    "resultados"
   ]
  },
  {
   "attachments": {},
   "cell_type": "markdown",
   "metadata": {},
   "source": [
    "## Gradiente descendente"
   ]
  },
  {
   "cell_type": "code",
   "execution_count": 16,
   "metadata": {},
   "outputs": [],
   "source": [
    "def calculate_step_size(gradient):\n",
    "    \"\"\"\n",
    "    Function to calculate the step size (learning rate) for gradient-based optimization methods.\n",
    "\n",
    "    Parameters:\n",
    "    - gradient (ndarray): The gradient vector.\n",
    "\n",
    "    Returns:\n",
    "    - step_size (float): The step size.\n",
    "    \"\"\"\n",
    "    step_size = 0.1  # Fixed step size value\n",
    "\n",
    "    return step_size\n",
    "\n",
    "\n",
    "def calculate_gradient(loss_function, x):\n",
    "    \"\"\"\n",
    "    Function to calculate the gradient of a given loss function using the finite difference method.\n",
    "\n",
    "    Parameters:\n",
    "    - loss_function (function): The loss function for which the gradient is to be calculated.\n",
    "    - x (ndarray): The point at which to calculate the gradient.\n",
    "\n",
    "    Returns:\n",
    "    - gradient (ndarray): The gradient vector.\n",
    "    \"\"\"\n",
    "    epsilon = 1e-6  # Small value for numerical differentiation\n",
    "\n",
    "    gradient = np.zeros_like(x)\n",
    "    \n",
    "    for i in range(len(x)):\n",
    "        perturbation = np.zeros_like(x)\n",
    "        perturbation[i] = epsilon\n",
    "        \n",
    "        loss_plus = loss_function(x + perturbation)\n",
    "        loss_minus = loss_function(x - perturbation)\n",
    "        \n",
    "        gradient[i] = (loss_plus - loss_minus) / (2 * epsilon)\n",
    "    \n",
    "    return gradient\n",
    "\n",
    "\n",
    "def find_minimum_loss(loss_function, initial_guess, iterations):\n",
    "    \"\"\"\n",
    "    Function to search for the minimum of a given loss function.\n",
    "\n",
    "    Parameters:\n",
    "    - loss_function (function): The loss function to minimize.\n",
    "    - initial_guess (ndarray): The initial value to start the search from.\n",
    "    - iterations (int): The number of iterations to perform.\n",
    "\n",
    "    Returns:\n",
    "    - minimum_value (float): The minimum value found.\n",
    "    \"\"\"\n",
    "    current_value = initial_guess\n",
    "\n",
    "    for _ in range(iterations):\n",
    "        gradient = calculate_gradient(loss_function, current_value)\n",
    "        step_size = calculate_step_size(gradient)  # You can use a fixed step size or apply more advanced optimization techniques like line search or adaptive step sizes.\n",
    "        current_value -= step_size * gradient\n",
    "\n",
    "    minimum_value = current_value\n",
    "    \n",
    "    return minimum_value\n",
    "\n"
   ]
  },
  {
   "cell_type": "code",
   "execution_count": null,
   "metadata": {},
   "outputs": [],
   "source": [
    "minimum_solution = find_minimum_loss(loss, initial_guess, iterations)\n",
    "\n",
    "print(minimum_solution)"
   ]
  },
  {
   "cell_type": "markdown",
   "metadata": {},
   "source": [
    "## Cargamos los datos de las sales"
   ]
  },
  {
   "cell_type": "code",
   "execution_count": 17,
   "metadata": {},
   "outputs": [
    {
     "name": "stdout",
     "output_type": "stream",
     "text": [
      "Las sales disponibles para el estudio son: \n",
      "0                    CALCIO BI SC 25 KG\n",
      "1             calcio samurai con amonio\n",
      "2                 MAP COLOSSAL SC 25 KG\n",
      "3                 MKP COLOSSAL SC 25 KG\n",
      "4     KERF ( Nitrato de Potasio mas Mg)\n",
      "5                      NITAMKS SC 25 KG\n",
      "6                   nitrato de magnesio\n",
      "7                NITROKSUL NKS SC 25 KG\n",
      "8                     SOLUCROS SC 25 KG\n",
      "9                     sulfato de amonio\n",
      "10                      SULMAG SC 50 KG\n",
      "11                 ***Sulfato de calcio\n",
      "12                     ***Quelato Ca95%\n",
      "Name: GreenHow, dtype: object\n"
     ]
    }
   ],
   "source": [
    "df, indice, matriz, trans = iones('iones_2')\n",
    "\n",
    "print('Las sales disponibles para el estudio son: ')\n",
    "print(indice)\n",
    "\n",
    "elementos = list(df.iloc[0][2:].index)"
   ]
  },
  {
   "attachments": {},
   "cell_type": "markdown",
   "metadata": {},
   "source": [
    "## Cargamos la solución objetivo"
   ]
  },
  {
   "cell_type": "code",
   "execution_count": 18,
   "metadata": {},
   "outputs": [
    {
     "name": "stdout",
     "output_type": "stream",
     "text": [
      "El objetivo del NO3- es: 0.0 g/l\n",
      "El objetivo del SO4-2 es: 9.38693625193657 g/l\n",
      "El objetivo del H2PO4- es: 4.17800052831859 g/l\n",
      "El objetivo del K+ es: 1.12998866589083 g/l\n",
      "El objetivo del Ca+2 es: 5.37221795855717 g/l\n",
      "El objetivo del Mg+2 es: 3.74270173162333 g/l\n",
      "El objetivo del NH4+ es: 1.85147089076322 g/l\n"
     ]
    }
   ],
   "source": [
    "variedad = 'kale-001'\n",
    "\n",
    "target, const = objetivo(variedad)\n",
    "\n",
    "\n",
    "for i in range(len(elementos)):\n",
    "    print('El objetivo del ' + elementos[i] + ' es: ' +  str(target[i]) + ' g/l')"
   ]
  },
  {
   "attachments": {},
   "cell_type": "markdown",
   "metadata": {},
   "source": [
    "## Hacemos la corrida con los fertilizantes seleccionados"
   ]
  },
  {
   "cell_type": "code",
   "execution_count": 11,
   "metadata": {},
   "outputs": [
    {
     "name": "stdout",
     "output_type": "stream",
     "text": [
      "No se utilizara : CALCIO BI SC 25 KG\n",
      "No se utilizara : calcio samurai con amonio\n",
      "No se utilizara : MAP COLOSSAL SC 25 KG\n",
      "Añadiendo: MKP COLOSSAL SC 25 KG\n",
      "Añadiendo: KERF ( Nitrato de Potasio mas Mg)\n",
      "Añadiendo: NITAMKS SC 25 KG\n",
      "Añadiendo: nitrato de magnesio\n",
      "Añadiendo: NITROKSUL NKS SC 25 KG\n",
      "Añadiendo: SOLUCROS SC 25 KG\n",
      "Añadiendo: sulfato de amonio\n",
      "Añadiendo: SULMAG SC 50 KG\n",
      "Añadiendo: ***Sulfato de calcio\n",
      "Añadiendo: ***Quelato Ca95%\n"
     ]
    }
   ],
   "source": [
    "A, AT, nuevoindice = corrida(indice, const, matriz)"
   ]
  },
  {
   "cell_type": "code",
   "execution_count": 12,
   "metadata": {},
   "outputs": [
    {
     "name": "stdout",
     "output_type": "stream",
     "text": [
      "El MKP COLOSSAL SC 25 KG es el # 0\n",
      "El KERF ( Nitrato de Potasio mas Mg) es el # 1\n",
      "El NITAMKS SC 25 KG es el # 2\n",
      "El nitrato de magnesio es el # 3\n",
      "El NITROKSUL NKS SC 25 KG es el # 4\n",
      "El SOLUCROS SC 25 KG es el # 5\n",
      "El sulfato de amonio es el # 6\n",
      "El SULMAG SC 50 KG es el # 7\n",
      "El ***Sulfato de calcio es el # 8\n",
      "El ***Quelato Ca95% es el # 9\n"
     ]
    }
   ],
   "source": [
    "for i in range(len(nuevoindice)):\n",
    "    print('El ' + nuevoindice[i] + ' es el # ' + str(i)  )\n"
   ]
  },
  {
   "attachments": {},
   "cell_type": "markdown",
   "metadata": {},
   "source": [
    "## Creamos el vector a optimizar "
   ]
  },
  {
   "cell_type": "code",
   "execution_count": 13,
   "metadata": {},
   "outputs": [
    {
     "name": "stdout",
     "output_type": "stream",
     "text": [
      "Vector aleatoreo de longitud 10: [0.1359944  0.53705857 0.73646049 0.3332377  0.28121106 0.61788253\n",
      " 0.8981857  0.66509429 0.29406626 0.41393602]\n"
     ]
    }
   ],
   "source": [
    "x = np.random.rand(A.shape[0])\n",
    "\n",
    "print('Vector aleatoreo de longitud ' + str(len(x)) + ':', x)"
   ]
  },
  {
   "attachments": {},
   "cell_type": "markdown",
   "metadata": {},
   "source": [
    "# Función perdida "
   ]
  },
  {
   "cell_type": "code",
   "execution_count": 14,
   "metadata": {},
   "outputs": [
    {
     "name": "stdout",
     "output_type": "stream",
     "text": [
      "A es de dimension:  (10, 7)\n",
      "AT es de dimension:  (7, 10)\n",
      "target es de dimension:  (17,)\n",
      "x es de dimension:  (10,)\n"
     ]
    }
   ],
   "source": [
    "print('A es de dimension: ', A.shape)\n",
    "print('AT es de dimension: ', AT.shape)\n",
    "print('target es de dimension: ', target.shape)\n",
    "print('x es de dimension: ', x.shape)\n"
   ]
  },
  {
   "cell_type": "code",
   "execution_count": 15,
   "metadata": {},
   "outputs": [
    {
     "ename": "ValueError",
     "evalue": "operands could not be broadcast together with shapes (17,) (7,) ",
     "output_type": "error",
     "traceback": [
      "\u001b[0;31m---------------------------------------------------------------------------\u001b[0m",
      "\u001b[0;31mValueError\u001b[0m                                Traceback (most recent call last)",
      "Cell \u001b[0;32mIn[15], line 1\u001b[0m\n\u001b[0;32m----> 1\u001b[0m loss(x, target, A)\n",
      "Cell \u001b[0;32mIn[3], line 54\u001b[0m, in \u001b[0;36mloss\u001b[0;34m(x0, k, A)\u001b[0m\n\u001b[1;32m     53\u001b[0m \u001b[39mdef\u001b[39;00m \u001b[39mloss\u001b[39m(x0, k, A):\n\u001b[0;32m---> 54\u001b[0m     lista \u001b[39m=\u001b[39m [\u001b[39msum\u001b[39m((k \u001b[39m-\u001b[39m np\u001b[39m.\u001b[39mdot(x0, A))\u001b[39m*\u001b[39m\u001b[39m*\u001b[39m\u001b[39m2\u001b[39m)\u001b[39m/\u001b[39mk\u001b[39m.\u001b[39mshape[\u001b[39m0\u001b[39m] \u001b[39mfor\u001b[39;00m i \u001b[39min\u001b[39;00m \u001b[39mrange\u001b[39m(x0\u001b[39m.\u001b[39mshape[\u001b[39m0\u001b[39m])]\n\u001b[1;32m     56\u001b[0m     \u001b[39mreturn\u001b[39;00m \u001b[39msum\u001b[39m(lista)\n",
      "Cell \u001b[0;32mIn[3], line 54\u001b[0m, in \u001b[0;36m<listcomp>\u001b[0;34m(.0)\u001b[0m\n\u001b[1;32m     53\u001b[0m \u001b[39mdef\u001b[39;00m \u001b[39mloss\u001b[39m(x0, k, A):\n\u001b[0;32m---> 54\u001b[0m     lista \u001b[39m=\u001b[39m [\u001b[39msum\u001b[39m((k \u001b[39m-\u001b[39;49m np\u001b[39m.\u001b[39;49mdot(x0, A))\u001b[39m*\u001b[39m\u001b[39m*\u001b[39m\u001b[39m2\u001b[39m)\u001b[39m/\u001b[39mk\u001b[39m.\u001b[39mshape[\u001b[39m0\u001b[39m] \u001b[39mfor\u001b[39;00m i \u001b[39min\u001b[39;00m \u001b[39mrange\u001b[39m(x0\u001b[39m.\u001b[39mshape[\u001b[39m0\u001b[39m])]\n\u001b[1;32m     56\u001b[0m     \u001b[39mreturn\u001b[39;00m \u001b[39msum\u001b[39m(lista)\n",
      "\u001b[0;31mValueError\u001b[0m: operands could not be broadcast together with shapes (17,) (7,) "
     ]
    }
   ],
   "source": [
    "loss(x, target, A)"
   ]
  },
  {
   "cell_type": "code",
   "execution_count": null,
   "metadata": {},
   "outputs": [],
   "source": []
  }
 ],
 "metadata": {
  "interpreter": {
   "hash": "b0446ae61b1ae3921b8a6fda32057e6f7713949bbe0c04eddbb55f11ed4aeef5"
  },
  "kernelspec": {
   "display_name": "Python 3 (ipykernel)",
   "language": "python",
   "name": "python3"
  },
  "language_info": {
   "codemirror_mode": {
    "name": "ipython",
    "version": 3
   },
   "file_extension": ".py",
   "mimetype": "text/x-python",
   "name": "python",
   "nbconvert_exporter": "python",
   "pygments_lexer": "ipython3",
   "version": "3.9.16"
  }
 },
 "nbformat": 4,
 "nbformat_minor": 4
}
